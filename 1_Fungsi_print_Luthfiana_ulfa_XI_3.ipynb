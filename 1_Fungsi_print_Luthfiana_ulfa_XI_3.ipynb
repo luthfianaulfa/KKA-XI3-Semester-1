{
  "cells": [
    {
      "cell_type": "markdown",
      "metadata": {
        "id": "view-in-github",
        "colab_type": "text"
      },
      "source": [
        "<a href=\"https://colab.research.google.com/github/luthfianaulfa/KKA-XI3-Semester-1/blob/main/1_Fungsi_print_Luthfiana_ulfa_XI_3.ipynb\" target=\"_parent\"><img src=\"https://colab.research.google.com/assets/colab-badge.svg\" alt=\"Open In Colab\"/></a>"
      ]
    },
    {
      "cell_type": "code",
      "execution_count": null,
      "metadata": {
        "colab": {
          "base_uri": "https://localhost:8080/"
        },
        "id": "BoQI-6A_LKNp",
        "outputId": "b38f3b90-d0e6-45db-9734-34ba0cb732cd"
      },
      "outputs": [
        {
          "name": "stdout",
          "output_type": "stream",
          "text": [
            "Hello world\n"
          ]
        }
      ],
      "source": [
        "print(\"Hello world\")"
      ]
    },
    {
      "cell_type": "markdown",
      "metadata": {
        "id": "2-BnbSnkTc2s"
      },
      "source": [
        "Nama: Luthfiana ulfa\n",
        "\n",
        "Kelas: XI.3\n",
        "\n",
        "Mapel: Kode & Kecerdasaan Artifisial (KKA)\n",
        "\n",
        "No Absen:9"
      ]
    },
    {
      "cell_type": "code",
      "execution_count": null,
      "metadata": {
        "colab": {
          "base_uri": "https://localhost:8080/"
        },
        "id": "-tkp8njtZBlN",
        "outputId": "19abfdd7-3ad2-4749-e5e8-da1152c8118c"
      },
      "outputs": [
        {
          "name": "stdout",
          "output_type": "stream",
          "text": [
            "Luthfiana ulfa\n",
            "16\n",
            "163\n"
          ]
        }
      ],
      "source": [
        "Nama = \"Luthfiana ulfa\"\n",
        "usia = 16\n",
        "Tinggi_badan = 163\n",
        "\n",
        "prin(Nama)\n",
        "print(usia)\n",
        "print(Tinggi_badan)"
      ]
    },
    {
      "cell_type": "markdown",
      "metadata": {
        "id": "ufDIrbrhWqzp"
      },
      "source": [
        "#Escape Character"
      ]
    },
    {
      "cell_type": "code",
      "execution_count": null,
      "metadata": {
        "colab": {
          "base_uri": "https://localhost:8080/"
        },
        "id": "ISufrwOyVcZ5",
        "outputId": "341a6c76-0cc3-46bb-ad32-694f5b262867"
      },
      "outputs": [
        {
          "output_type": "stream",
          "name": "stdout",
          "text": [
            "Nama:Luthfiana ulfa\n",
            "Kelas: XI.3\n",
            "No. absen: 29\n"
          ]
        }
      ],
      "source": [
        "print(\"Nama:Luthfiana ulfa\\nKelas: XI.3\\nNo. absen: 29\")"
      ]
    },
    {
      "cell_type": "markdown",
      "source": [
        "#parameter fungsi baru\n"
      ],
      "metadata": {
        "id": "FEN8srRsX563"
      }
    },
    {
      "cell_type": "code",
      "source": [
        "nama_siswa_1 = \"yafi\"\n",
        "nama_siswa_2 = \"wahyu\""
      ],
      "metadata": {
        "id": "Cs1c855AaBA_"
      },
      "execution_count": 2,
      "outputs": []
    },
    {
      "cell_type": "code",
      "source": [
        "print(nama_siswa_1, end=\"&\")\n",
        "print(nama_siswa_2)"
      ],
      "metadata": {
        "colab": {
          "base_uri": "https://localhost:8080/"
        },
        "id": "LDaKKtxJa2PQ",
        "outputId": "da310237-6702-47f6-f30c-136509465354"
      },
      "execution_count": 4,
      "outputs": [
        {
          "output_type": "stream",
          "name": "stdout",
          "text": [
            "yafi&wahyu\n"
          ]
        }
      ]
    },
    {
      "cell_type": "code",
      "source": [
        "print(nama_siswa_1, nama_siswa_2, sep=\"/\")"
      ],
      "metadata": {
        "colab": {
          "base_uri": "https://localhost:8080/"
        },
        "id": "yDsSCTZvbWm5",
        "outputId": "d7d4574e-15bb-4c7b-89f0-009cb4f8d0c3"
      },
      "execution_count": 8,
      "outputs": [
        {
          "output_type": "stream",
          "name": "stdout",
          "text": [
            "yafi/wahyu\n"
          ]
        }
      ]
    },
    {
      "cell_type": "code",
      "source": [
        "nama_siswa_3 = \"Dzaka\"\n",
        "nama_siswa_4 = \"Haikal\"\n",
        "nama_siswa_5 = \"Hilma\"\n",
        "\n",
        "print(nama_siswa_3)\n",
        "print(nama_siswa_4)\n",
        "print(nama_siswa_5)"
      ],
      "metadata": {
        "id": "xtAPDP9MYbdG",
        "colab": {
          "base_uri": "https://localhost:8080/"
        },
        "outputId": "65a8ce8c-0120-491f-b094-bd6c80e68d9a"
      },
      "execution_count": 10,
      "outputs": [
        {
          "output_type": "stream",
          "name": "stdout",
          "text": [
            "Dzaka\n",
            "Haikal\n",
            "Hilma\n"
          ]
        }
      ]
    },
    {
      "cell_type": "code",
      "source": [
        "print"
      ],
      "metadata": {
        "id": "rmrFbYy6cjWv"
      },
      "execution_count": null,
      "outputs": []
    }
  ],
  "metadata": {
    "colab": {
      "provenance": [],
      "authorship_tag": "ABX9TyPFkMiOeLo4Ry4ccm1IM4LB",
      "include_colab_link": true
    },
    "kernelspec": {
      "display_name": "Python 3",
      "name": "python3"
    },
    "language_info": {
      "name": "python"
    }
  },
  "nbformat": 4,
  "nbformat_minor": 0
}