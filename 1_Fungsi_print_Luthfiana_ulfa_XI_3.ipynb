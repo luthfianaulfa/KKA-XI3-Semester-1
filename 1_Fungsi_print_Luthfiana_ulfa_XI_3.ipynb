{
  "cells": [
    {
      "cell_type": "markdown",
      "metadata": {
        "id": "view-in-github",
        "colab_type": "text"
      },
      "source": [
        "<a href=\"https://colab.research.google.com/github/luthfianaulfa/KKA-XI3-Semester-1/blob/main/1_Fungsi_print_Luthfiana_ulfa_XI_3.ipynb\" target=\"_parent\"><img src=\"https://colab.research.google.com/assets/colab-badge.svg\" alt=\"Open In Colab\"/></a>"
      ]
    },
    {
      "cell_type": "code",
      "execution_count": null,
      "metadata": {
        "colab": {
          "base_uri": "https://localhost:8080/"
        },
        "id": "BoQI-6A_LKNp",
        "outputId": "b38f3b90-d0e6-45db-9734-34ba0cb732cd"
      },
      "outputs": [
        {
          "name": "stdout",
          "output_type": "stream",
          "text": [
            "Hello world\n"
          ]
        }
      ],
      "source": [
        "print(\"Hello world\")"
      ]
    },
    {
      "cell_type": "markdown",
      "metadata": {
        "id": "2-BnbSnkTc2s"
      },
      "source": [
        "Nama: Luthfiana ulfa\n",
        "\n",
        "Kelas: XI.3\n",
        "\n",
        "Mapel: Kode & Kecerdasaan Artifisial (KKA)\n",
        "\n",
        "No Absen:9"
      ]
    },
    {
      "cell_type": "code",
      "execution_count": null,
      "metadata": {
        "colab": {
          "base_uri": "https://localhost:8080/"
        },
        "id": "-tkp8njtZBlN",
        "outputId": "19abfdd7-3ad2-4749-e5e8-da1152c8118c"
      },
      "outputs": [
        {
          "name": "stdout",
          "output_type": "stream",
          "text": [
            "Luthfiana ulfa\n",
            "16\n",
            "163\n"
          ]
        }
      ],
      "source": [
        "Nama = \"Luthfiana ulfa\"\n",
        "usia = 16\n",
        "Tinggi_badan = 163\n",
        "\n",
        "prin(Nama)\n",
        "print(usia)\n",
        "print(Tinggi_badan)"
      ]
    },
    {
      "cell_type": "markdown",
      "source": [
        "#Menampilkan String (Nilai bebas)"
      ],
      "metadata": {
        "id": "QusIjzR6otds"
      }
    },
    {
      "cell_type": "code",
      "source": [
        "print(\"Luthfiana ulfa\")"
      ],
      "metadata": {
        "colab": {
          "base_uri": "https://localhost:8080/"
        },
        "id": "NX61EnbAo6hB",
        "outputId": "601eacaa-7501-44c4-aff7-f600d145d430"
      },
      "execution_count": null,
      "outputs": [
        {
          "output_type": "stream",
          "name": "stdout",
          "text": [
            "Luthfiana ulfa\n"
          ]
        }
      ]
    },
    {
      "cell_type": "markdown",
      "source": [
        "#Menampilkan Nilai Variabel"
      ],
      "metadata": {
        "id": "1Y68noTHpDy2"
      }
    },
    {
      "cell_type": "code",
      "source": [
        "Nama = \"Luthfiana ulfa\"\n",
        "Usia = 16\n",
        "Tinggi_badan =163\n",
        "\n",
        "print(Nama)\n",
        "print(Usia)\n",
        "print(Tinggi_badan)"
      ],
      "metadata": {
        "colab": {
          "base_uri": "https://localhost:8080/"
        },
        "id": "MEFtyOURpLCc",
        "outputId": "622c8413-a68d-4744-9e4d-c74d8ac4233b"
      },
      "execution_count": null,
      "outputs": [
        {
          "output_type": "stream",
          "name": "stdout",
          "text": [
            "Luthfiana ulfa\n",
            "16\n",
            "163\n"
          ]
        }
      ]
    },
    {
      "cell_type": "markdown",
      "source": [
        "#Menampilkan String dan Nilai Variabel"
      ],
      "metadata": {
        "id": "q9UWjVgHpvMe"
      }
    },
    {
      "cell_type": "code",
      "source": [
        "print(\"Halo nama saya\",Nama,\"Tinggi badan saya adalah\",Tinggi_badan,\"cm.\")"
      ],
      "metadata": {
        "colab": {
          "base_uri": "https://localhost:8080/"
        },
        "id": "FXHheAgYp4t4",
        "outputId": "86d35183-2a38-4624-d46c-1699fe83a7aa"
      },
      "execution_count": null,
      "outputs": [
        {
          "output_type": "stream",
          "name": "stdout",
          "text": [
            "Halo nama saya Luthfiana ulfa .Tinggi badan saya adalah 163 cm.\n"
          ]
        }
      ]
    },
    {
      "cell_type": "code",
      "source": [
        "Berat_badan  = 48\n",
        "print(Berat_badan)"
      ],
      "metadata": {
        "colab": {
          "base_uri": "https://localhost:8080/"
        },
        "id": "GutmY6XVqy5T",
        "outputId": "9cd67f6c-ea98-4beb-ee7c-e6263c13096f"
      },
      "execution_count": null,
      "outputs": [
        {
          "output_type": "stream",
          "name": "stdout",
          "text": [
            "48\n"
          ]
        }
      ]
    },
    {
      "cell_type": "code",
      "source": [
        "print (\"Berat badan fiana adalah\",Berat_badan,\"kg.\")"
      ],
      "metadata": {
        "colab": {
          "base_uri": "https://localhost:8080/"
        },
        "id": "W4cSGrVBrTHH",
        "outputId": "e81cbd8a-845b-437a-9ed5-baee13f3af4f"
      },
      "execution_count": null,
      "outputs": [
        {
          "output_type": "stream",
          "name": "stdout",
          "text": [
            "Berat badan fiana adalah 48 kg.\n"
          ]
        }
      ]
    },
    {
      "cell_type": "code",
      "source": [
        "print(\"Halo nama saya \"+Nama+\". Tinggi badan saya adalah \"+ str(Tinggi_badan)+\"cm.\")"
      ],
      "metadata": {
        "colab": {
          "base_uri": "https://localhost:8080/"
        },
        "id": "FUNAnSTfrsx-",
        "outputId": "7b0712f0-2678-4f4d-8bca-41e0a38e8c7d"
      },
      "execution_count": null,
      "outputs": [
        {
          "output_type": "stream",
          "name": "stdout",
          "text": [
            "Halo nama saya Luthfiana ulfa. Tinggi badan saya adalah 163cm.\n"
          ]
        }
      ]
    },
    {
      "cell_type": "code",
      "source": [
        "print(\"Halo nama saya {Nama}. Tinggi_badan saya adalah {Tinggi_badan}cm.\")"
      ],
      "metadata": {
        "colab": {
          "base_uri": "https://localhost:8080/"
        },
        "id": "NqDCKFN0tGYZ",
        "outputId": "d74d60dc-7df3-42ea-c19e-d9fc703460be"
      },
      "execution_count": null,
      "outputs": [
        {
          "output_type": "stream",
          "name": "stdout",
          "text": [
            "Halo nama saya {Nama}. Tinggi badan saya adalah {Tinggi_badan}cm.\n"
          ]
        }
      ]
    },
    {
      "cell_type": "markdown",
      "source": [
        "#Escape character"
      ],
      "metadata": {
        "id": "3yd-_ZnH85NA"
      }
    },
    {
      "cell_type": "code",
      "source": [
        "print(\"Nama : Luthfiana ulfa\\nkelas: XI.3\\nNo.absen:10\")"
      ],
      "metadata": {
        "colab": {
          "base_uri": "https://localhost:8080/"
        },
        "id": "R5AtJLHj88zH",
        "outputId": "10dd1524-46b1-41f6-a7b9-4f840b9cef2b"
      },
      "execution_count": 1,
      "outputs": [
        {
          "output_type": "stream",
          "name": "stdout",
          "text": [
            "Nama : Luthfiana ulfa\n",
            "kelas: XI.3\n",
            "No.absen:10\n"
          ]
        }
      ]
    },
    {
      "cell_type": "code",
      "source": [
        "print(\"\"\"Nama\\t\\t: Luthfiana ulfa\n",
        "Kelas\\t\\t: XI.3\n",
        "No. absen\\t:10\"\"\")"
      ],
      "metadata": {
        "colab": {
          "base_uri": "https://localhost:8080/"
        },
        "id": "d0myRiD_9USS",
        "outputId": "51c132b0-47de-4ca6-9104-1e4cb17c0d03"
      },
      "execution_count": 2,
      "outputs": [
        {
          "output_type": "stream",
          "name": "stdout",
          "text": [
            "Nama\t\t: Luthfiana ulfa\n",
            "Kelas\t\t: XI.3\n",
            "No. absen\t:10\n"
          ]
        }
      ]
    },
    {
      "cell_type": "code",
      "source": [
        "print (\"Nama:Luthfiana ulfa\")\n",
        "print (\"kelas: XI.3\")\n",
        "print (\"No. absen: 10\")"
      ],
      "metadata": {
        "colab": {
          "base_uri": "https://localhost:8080/"
        },
        "id": "_eNY58EE9pQI",
        "outputId": "c658e486-7b93-4daf-c6a6-12b7299ddbb6"
      },
      "execution_count": 3,
      "outputs": [
        {
          "output_type": "stream",
          "name": "stdout",
          "text": [
            "Nama:Luthfiana ulfa\n",
            "kelas: XI.3\n",
            "No. absen: 10\n"
          ]
        }
      ]
    },
    {
      "cell_type": "code",
      "source": [
        "print ('Luthfiana ulfa')"
      ],
      "metadata": {
        "colab": {
          "base_uri": "https://localhost:8080/"
        },
        "id": "u9tXk3yW9_Al",
        "outputId": "6a2c47b8-8656-4dc5-fda5-1f750024809c"
      },
      "execution_count": 4,
      "outputs": [
        {
          "output_type": "stream",
          "name": "stdout",
          "text": [
            "Luthfiana ulfa\n"
          ]
        }
      ]
    },
    {
      "cell_type": "code",
      "source": [
        "print (\"Luthfiana ulfa\")"
      ],
      "metadata": {
        "colab": {
          "base_uri": "https://localhost:8080/"
        },
        "id": "Hinj8cLn-J65",
        "outputId": "b8e7bcc5-73cc-46af-9beb-e99eb11c8611"
      },
      "execution_count": 5,
      "outputs": [
        {
          "output_type": "stream",
          "name": "stdout",
          "text": [
            "Luthfiana ulfa\n"
          ]
        }
      ]
    },
    {
      "cell_type": "code",
      "source": [
        "print ('Habib ja\\'far')"
      ],
      "metadata": {
        "colab": {
          "base_uri": "https://localhost:8080/"
        },
        "id": "wrccmxmz-Q_7",
        "outputId": "29b395ef-c95b-4837-8948-5b48f015ff36"
      },
      "execution_count": 6,
      "outputs": [
        {
          "output_type": "stream",
          "name": "stdout",
          "text": [
            "Habib ja'far\n"
          ]
        }
      ]
    },
    {
      "cell_type": "code",
      "source": [
        "print (\"Bu Shinta berkata, \\\"Tolong fokus ke layar TV!\\\".\")"
      ],
      "metadata": {
        "colab": {
          "base_uri": "https://localhost:8080/"
        },
        "id": "Iyn4X96l-bS3",
        "outputId": "3b29114b-777e-48eb-aacb-c12348145917"
      },
      "execution_count": 7,
      "outputs": [
        {
          "output_type": "stream",
          "name": "stdout",
          "text": [
            "Bu Shinta berkata, \"Tolong fokus ke layar TV!\".\n"
          ]
        }
      ]
    },
    {
      "cell_type": "code",
      "source": [
        "print (\"Lokasi file penyimpanan tugas KKA ada di Local disk D:\\\\Man Demak\\\\KKA\\\\Tugas\")"
      ],
      "metadata": {
        "colab": {
          "base_uri": "https://localhost:8080/"
        },
        "id": "Z1efivrr-tOT",
        "outputId": "367e958c-5e0b-4b79-c442-452c9149f4ee"
      },
      "execution_count": 8,
      "outputs": [
        {
          "output_type": "stream",
          "name": "stdout",
          "text": [
            "Lokasi file penyimpanan tugas KKA ada di Local disk D:\\Man Demak\\KKA\\Tugas\n"
          ]
        }
      ]
    },
    {
      "cell_type": "markdown",
      "source": [
        "#parameter fungsi baru\n"
      ],
      "metadata": {
        "id": "FEN8srRsX563"
      }
    },
    {
      "cell_type": "code",
      "source": [
        "nama_siswa_1 = \"yafi\"\n",
        "nama_siswa_2 = \"wahyu\""
      ],
      "metadata": {
        "id": "Cs1c855AaBA_"
      },
      "execution_count": null,
      "outputs": []
    },
    {
      "cell_type": "code",
      "source": [
        "print(nama_siswa_1, end=\"&\")\n",
        "print(nama_siswa_2)"
      ],
      "metadata": {
        "colab": {
          "base_uri": "https://localhost:8080/"
        },
        "id": "LDaKKtxJa2PQ",
        "outputId": "da310237-6702-47f6-f30c-136509465354"
      },
      "execution_count": null,
      "outputs": [
        {
          "output_type": "stream",
          "name": "stdout",
          "text": [
            "yafi&wahyu\n"
          ]
        }
      ]
    },
    {
      "cell_type": "code",
      "source": [
        "print(nama_siswa_1, nama_siswa_2, sep=\"/\")"
      ],
      "metadata": {
        "colab": {
          "base_uri": "https://localhost:8080/"
        },
        "id": "yDsSCTZvbWm5",
        "outputId": "d7d4574e-15bb-4c7b-89f0-009cb4f8d0c3"
      },
      "execution_count": null,
      "outputs": [
        {
          "output_type": "stream",
          "name": "stdout",
          "text": [
            "yafi/wahyu\n"
          ]
        }
      ]
    },
    {
      "cell_type": "code",
      "source": [
        "\n",
        "nama_siswa_3 = \"Dzakka\"\n",
        "nama_siswa_4 = \"Haikal\"\n",
        "nama_siswa_5 = \"Hilma\""
      ],
      "metadata": {
        "id": "Pny92W3b_29r"
      },
      "execution_count": 9,
      "outputs": []
    },
    {
      "cell_type": "code",
      "source": [
        "print(nama_siswa_5, end=\"*\")\n",
        "print(nama_siswa_4, end=\"*\")\n",
        "print(nama_siswa_3, end=\"*\")\n",
        "print(nama_siswa_5)"
      ],
      "metadata": {
        "colab": {
          "base_uri": "https://localhost:8080/"
        },
        "id": "ukiLZSUN__O9",
        "outputId": "32dbb996-48f9-48ea-f5e0-3fbad07a2292"
      },
      "execution_count": 10,
      "outputs": [
        {
          "output_type": "stream",
          "name": "stdout",
          "text": [
            "Hilma*Haikal*Dzakka*Hilma\n"
          ]
        }
      ]
    },
    {
      "cell_type": "code",
      "source": [
        " print(nama_siswa_4, nama_siswa_3,nama_siswa_5, nama_siswa_3,sep=\"~\")"
      ],
      "metadata": {
        "colab": {
          "base_uri": "https://localhost:8080/"
        },
        "id": "iBn6BhFWAU18",
        "outputId": "f0b8152d-e9aa-4094-bf09-e6393379466a"
      },
      "execution_count": 13,
      "outputs": [
        {
          "output_type": "stream",
          "name": "stdout",
          "text": [
            "Haikal~Dzakka~Hilma~Dzakka\n"
          ]
        }
      ]
    }
  ],
  "metadata": {
    "colab": {
      "provenance": [],
      "authorship_tag": "ABX9TyN5zZMKZovknyrlJVmMHiob",
      "include_colab_link": true
    },
    "kernelspec": {
      "display_name": "Python 3",
      "name": "python3"
    },
    "language_info": {
      "name": "python"
    }
  },
  "nbformat": 4,
  "nbformat_minor": 0
}